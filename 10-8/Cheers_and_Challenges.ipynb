{
 "cells": [
  {
   "cell_type": "markdown",
   "metadata": {
    "id": "sQXMtgallSEq"
   },
   "source": [
    "# Welcome back!\n",
    "\n",
    "\n",
    "Today we are going to write a script to assign cheers and challenges dates to interns: \n",
    "\n",
    "Our goal is to assign a name to each Thursday date between now and the end of the year. Something like this: \n",
    "\n",
    "![image](https://raw.githubusercontent.com/madesai22/ocean-ml/master/images/final_product.jpeg) \n",
    "\n",
    "To do this, we are going to use the datetime module. The datetime module is used to deal with real dates and times in python. First, we need to import the **date** object from the datetime module:"
   ]
  },
  {
   "cell_type": "code",
   "execution_count": 2,
   "metadata": {
    "id": "hQXS9mp3lSEr"
   },
   "outputs": [],
   "source": [
    "from datetime import date"
   ]
  },
  {
   "cell_type": "markdown",
   "metadata": {
    "id": "22LnVIZnlSEw"
   },
   "source": [
    "With this, we can create variables that are date objects:"
   ]
  },
  {
   "cell_type": "code",
   "execution_count": 3,
   "metadata": {
    "colab": {
     "base_uri": "https://localhost:8080/",
     "height": 34
    },
    "id": "BbLWdWkglSEx",
    "outputId": "76e4f74b-7a5a-4af9-ab37-47202158e9aa"
   },
   "outputs": [
    {
     "name": "stdout",
     "output_type": "stream",
     "text": [
      "2020-10-15\n",
      "2005-01-19\n"
     ]
    }
   ],
   "source": [
    "meeras_birthday = date(1996,5,22)\n",
    "today = date.today()\n",
    "\n",
    "print(today)\n",
    "# add your birthday here:\n",
    "charlottes_birthday = date(2005,1,19)\n",
    "print(charlottes_birthday)"
   ]
  },
  {
   "cell_type": "markdown",
   "metadata": {
    "id": "_ANeqrJVlSE1"
   },
   "source": [
    "We're also going to import the **timedelta** object from the datetime module:"
   ]
  },
  {
   "cell_type": "code",
   "execution_count": 4,
   "metadata": {
    "id": "x2W5I9nWlSE3"
   },
   "outputs": [],
   "source": [
    "from datetime import timedelta"
   ]
  },
  {
   "cell_type": "markdown",
   "metadata": {
    "id": "b5F21EqmlSE7"
   },
   "source": [
    "The timedelta object is for adding or subtracting times from one another. For example, when you subtract two dates, the result is a timedelta object:"
   ]
  },
  {
   "cell_type": "code",
   "execution_count": 5,
   "metadata": {
    "colab": {
     "base_uri": "https://localhost:8080/",
     "height": 51
    },
    "id": "khVRie9plSE7",
    "outputId": "b787b969-708a-4df4-b530-dd8914fa4bc7"
   },
   "outputs": [
    {
     "name": "stdout",
     "output_type": "stream",
     "text": [
      "<class 'datetime.timedelta'>\n",
      "5748 days, 0:00:00\n"
     ]
    }
   ],
   "source": [
    "# timedelta Example 1: \n",
    "meeras_age = today - meeras_birthday \n",
    "print(type(meeras_age))\n",
    "# write code to calcualte and print your age and the type of this variable\n",
    "# Here :\n",
    "charlottes_age = today - charlottes_birthday\n",
    "print(charlottes_age)"
   ]
  },
  {
   "cell_type": "markdown",
   "metadata": {
    "id": "paBjCFBAlSE-"
   },
   "source": [
    "You can use timedeltas to calculate time in the future or the past:"
   ]
  },
  {
   "cell_type": "code",
   "execution_count": 6,
   "metadata": {
    "colab": {
     "base_uri": "https://localhost:8080/",
     "height": 34
    },
    "id": "Sngt2Z53lSE_",
    "outputId": "452954df-ff2f-42cc-9f71-7c5275ff4b23"
   },
   "outputs": [
    {
     "name": "stdout",
     "output_type": "stream",
     "text": [
      "2020-10-22\n"
     ]
    }
   ],
   "source": [
    "# timedelta Example 2:\n",
    "one_week = timedelta(days = 7)\n",
    "next_week = today + one_week\n",
    "print(next_week)"
   ]
  },
  {
   "cell_type": "code",
   "execution_count": 7,
   "metadata": {
    "id": "Wijxt2I9lSFC"
   },
   "outputs": [
    {
     "name": "stdout",
     "output_type": "stream",
     "text": [
      "2020-10-29\n",
      "2020-10-01\n"
     ]
    }
   ],
   "source": [
    "# Write code to calculate the date in two weeks: \n",
    "nexttwo_week = one_week + one_week \n",
    "two_week = today + nexttwo_week\n",
    "print(two_week)\n",
    "\n",
    "# write code to calculate the date two weeks ago:\n",
    "\n",
    "two_ago = today - nexttwo_week\n",
    "print(two_ago)\n"
   ]
  },
  {
   "cell_type": "markdown",
   "metadata": {
    "id": "hx_mMlO9lSFF"
   },
   "source": [
    "One more thing before we can start writing our script.\n",
    "Normally when we want to loop through a list, we get to the end of the list and stop:"
   ]
  },
  {
   "cell_type": "code",
   "execution_count": 8,
   "metadata": {
    "id": "ykj1nRoSlSFG"
   },
   "outputs": [
    {
     "name": "stdout",
     "output_type": "stream",
     "text": [
      "['this', 'is', 'an', 'example', 'list', 'of', 'strings']\n"
     ]
    }
   ],
   "source": [
    "example_list = ['this','is','an','example','list','of','strings']\n",
    "\n",
    "# write code to iterate through this list and print each item:\n",
    "\n",
    "print(example_list)\n"
   ]
  },
  {
   "cell_type": "markdown",
   "metadata": {
    "id": "RQpW0TAAlSFI"
   },
   "source": [
    "For our purposes, we need to continue to loop through a list. For this we use **cycle** from the itertools module. Let's see what this code does:"
   ]
  },
  {
   "cell_type": "code",
   "execution_count": 9,
   "metadata": {
    "id": "by9CfvJmqJLA"
   },
   "outputs": [],
   "source": [
    "from itertools import cycle \n"
   ]
  },
  {
   "cell_type": "code",
   "execution_count": null,
   "metadata": {
    "colab": {
     "base_uri": "https://localhost:8080/",
     "height": 1000
    },
    "id": "oyNpXtlhlSFI",
    "outputId": "f795a4ac-102a-4731-afad-a3b4cf83361d"
   },
   "outputs": [],
   "source": [
    "example_cycle = cycle(example_list)\n",
    "for item in example_cycle:\n",
    "    print(item)\n",
    "\n",
    "# write code to print the items in example_cycle:\n",
    "\n",
    "\n"
   ]
  },
  {
   "cell_type": "markdown",
   "metadata": {
    "id": "XqkaoW26lSFM"
   },
   "source": [
    "Uhoh! We can stop an ongoing loop with a **break** statement. We can worry about this when we write our script. Let's start thinking about the variables we need to make our script. One thing we might need is a list of dates we don't need to assign someone to (dates we don't meet or when interns have a workshop). We can store these in a set, which is kind of like a list with some special properites. You denote a set using these brackets { } as shown:"
   ]
  },
  {
   "cell_type": "code",
   "execution_count": 10,
   "metadata": {
    "id": "A0iG6RTrlSFN"
   },
   "outputs": [],
   "source": [
    "no_session = { date(2020,11,3), date(2020,12,22), date(2020,12,29),\n",
    "              date(2021,2,16), date(2021,3,30), date(2021,5,13)\n",
    "              }"
   ]
  },
  {
   "cell_type": "markdown",
   "metadata": {
    "id": "HZHzZRILlSFP"
   },
   "source": [
    "Another thing we might need is the start and end dates. We can make the start date today.  The end of cheers/challenges is June 1th, 2020.  "
   ]
  },
  {
   "cell_type": "code",
   "execution_count": 11,
   "metadata": {
    "id": "z1lPcpjDlSFP"
   },
   "outputs": [],
   "source": [
    "# Write code to assign start and end dates to variable here\n",
    "start_stop = { date(2020,10,8), date(2021,6,1)}"
   ]
  },
  {
   "cell_type": "markdown",
   "metadata": {
    "id": "SftfWu-ylSFR"
   },
   "source": [
    "What else do we need? How can we use these elements to make a script that does what we want?"
   ]
  },
  {
   "cell_type": "code",
   "execution_count": 12,
   "metadata": {
    "colab": {
     "base_uri": "https://localhost:8080/",
     "height": 238
    },
    "id": "EF0l-oRPlSFS",
    "outputId": "8d7bdff8-752e-4e47-bc93-500c0a2ee66c"
   },
   "outputs": [
    {
     "name": "stdout",
     "output_type": "stream",
     "text": [
      "2020-10-15\n"
     ]
    },
    {
     "ename": "NameError",
     "evalue": "name 'example_cycle' is not defined",
     "output_type": "error",
     "traceback": [
      "\u001b[0;31m---------------------------------------------------------------------------\u001b[0m",
      "\u001b[0;31mNameError\u001b[0m                                 Traceback (most recent call last)",
      "\u001b[0;32m<ipython-input-12-8f5817725cc2>\u001b[0m in \u001b[0;36m<module>\u001b[0;34m\u001b[0m\n\u001b[1;32m      4\u001b[0m \u001b[0mi\u001b[0m \u001b[0;34m=\u001b[0m \u001b[0;36m0\u001b[0m\u001b[0;34m\u001b[0m\u001b[0;34m\u001b[0m\u001b[0m\n\u001b[1;32m      5\u001b[0m \u001b[0;32mwhile\u001b[0m \u001b[0mi\u001b[0m\u001b[0;34m<\u001b[0m\u001b[0;36m12\u001b[0m\u001b[0;34m:\u001b[0m\u001b[0;34m\u001b[0m\u001b[0;34m\u001b[0m\u001b[0m\n\u001b[0;32m----> 6\u001b[0;31m     \u001b[0mprint\u001b[0m\u001b[0;34m(\u001b[0m\u001b[0mnext\u001b[0m\u001b[0;34m(\u001b[0m\u001b[0mexample_cycle\u001b[0m\u001b[0;34m)\u001b[0m\u001b[0;34m)\u001b[0m\u001b[0;34m\u001b[0m\u001b[0;34m\u001b[0m\u001b[0m\n\u001b[0m\u001b[1;32m      7\u001b[0m     \u001b[0mi\u001b[0m\u001b[0;34m+=\u001b[0m \u001b[0;36m1\u001b[0m\u001b[0;34m\u001b[0m\u001b[0;34m\u001b[0m\u001b[0m\n\u001b[1;32m      8\u001b[0m \u001b[0;34m\u001b[0m\u001b[0m\n",
      "\u001b[0;31mNameError\u001b[0m: name 'example_cycle' is not defined"
     ]
    }
   ],
   "source": [
    "if today not in no_session:\n",
    "    print(today)\n",
    "    \n",
    "i = 0 \n",
    "while i<12:\n",
    "    print(next(example_cycle))\n",
    "    i+= 1\n",
    "    \n"
   ]
  },
  {
   "cell_type": "code",
   "execution_count": 18,
   "metadata": {
    "colab": {
     "base_uri": "https://localhost:8080/",
     "height": 187
    },
    "id": "wee7vM5qlSFU",
    "outputId": "28f8c547-1c2a-4d00-9e5b-2df5cf117867"
   },
   "outputs": [
    {
     "name": "stdout",
     "output_type": "stream",
     "text": [
      "2020-10-20 Alexa\n",
      "2020-10-27 Charlotte\n",
      "2020-11-10 Lila \n",
      "2020-11-17 Mary\n",
      "2020-11-24 Nushera\n",
      "2020-12-01 Tanzina\n",
      "2020-12-08 Alexa\n",
      "2020-12-15 Charlotte\n",
      "2021-01-05 Lila \n",
      "2021-01-12 Mary\n",
      "2021-01-19 Nushera\n",
      "2021-01-26 Tanzina\n",
      "2021-02-02 Alexa\n",
      "2021-02-09 Charlotte\n",
      "2021-02-23 Lila \n",
      "2021-03-02 Mary\n",
      "2021-03-09 Nushera\n",
      "2021-03-16 Tanzina\n",
      "2021-03-23 Alexa\n",
      "2021-04-06 Charlotte\n",
      "2021-04-13 Lila \n",
      "2021-04-20 Mary\n",
      "2021-04-27 Nushera\n",
      "2021-05-04 Tanzina\n",
      "2021-05-11 Alexa\n",
      "2021-05-18 Charlotte\n",
      "2021-05-25 Lila \n"
     ]
    }
   ],
   "source": [
    "# Use this space to map out your code. What variables do you need? \n",
    "\n",
    "# start, end, list of intern names, list of dates with no sessions, \n",
    "# make a loop that prints all the cheers and challenges dates\n",
    "\n",
    "# step 1: make a loop that prints ALL the tuesdays between now and the end of internships\n",
    "\n",
    "today = date.today()\n",
    "tomorrow = date(2019,10,25)\n",
    "start = date(2020,10,8)\n",
    "end = date(2021,6,1)\n",
    "no_session = { date(2020,11,3), date(2020,12,22), date(2020,12,29),\n",
    "              date(2021,2,16), date(2021,3,30), date(2021,5,13)\n",
    "              }\n",
    "names = ['Alexa','Charlotte','Lila ','Mary','Nushera','Tanzina']\n",
    "one_week = timedelta(days = 7)\n",
    "\n",
    "names_cycle = cycle(names)\n",
    "#for i in names_cycle: \n",
    "   # print(i)\n",
    "\n",
    "\n",
    "i = date(2020, 10, 20) \n",
    "while i < end:\n",
    "    if i not in no_session:\n",
    "        print(i,next(names_cycle))\n",
    "    i += one_week\n",
    "    \n",
    "\n",
    "\n",
    "    \n",
    "    \n",
    "\n",
    "\n",
    "\n",
    "\n",
    "\n"
   ]
  },
  {
   "cell_type": "markdown",
   "metadata": {
    "id": "Pbpzd_fvlSFX"
   },
   "source": [
    "Bonus if we have time: How can you write this to a file instead of printing to the screen? "
   ]
  },
  {
   "cell_type": "code",
   "execution_count": null,
   "metadata": {
    "id": "cvguyLpNlSFX"
   },
   "outputs": [],
   "source": [
    "# write that here if you have time :-)\n",
    "\n"
   ]
  }
 ],
 "metadata": {
  "colab": {
   "name": "Cheers and Challenges.ipynb",
   "provenance": []
  },
  "kernelspec": {
   "display_name": "Python 3",
   "language": "python",
   "name": "python3"
  },
  "language_info": {
   "codemirror_mode": {
    "name": "ipython",
    "version": 3
   },
   "file_extension": ".py",
   "mimetype": "text/x-python",
   "name": "python",
   "nbconvert_exporter": "python",
   "pygments_lexer": "ipython3",
   "version": "3.7.3"
  }
 },
 "nbformat": 4,
 "nbformat_minor": 1
}
